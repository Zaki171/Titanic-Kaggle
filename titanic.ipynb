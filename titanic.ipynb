{
 "cells": [
  {
   "cell_type": "code",
   "execution_count": 1,
   "id": "a6afc1dd",
   "metadata": {
    "_cell_guid": "b1076dfc-b9ad-4769-8c92-a6c4dae69d19",
    "_uuid": "8f2839f25d086af736a60e9eeb907d3b93b6e0e5",
    "execution": {
     "iopub.execute_input": "2022-08-24T20:30:25.689469Z",
     "iopub.status.busy": "2022-08-24T20:30:25.688678Z",
     "iopub.status.idle": "2022-08-24T20:30:25.700131Z",
     "shell.execute_reply": "2022-08-24T20:30:25.699433Z"
    },
    "papermill": {
     "duration": 0.020325,
     "end_time": "2022-08-24T20:30:25.702204",
     "exception": false,
     "start_time": "2022-08-24T20:30:25.681879",
     "status": "completed"
    },
    "tags": []
   },
   "outputs": [
    {
     "name": "stdout",
     "output_type": "stream",
     "text": [
      "/kaggle/input/titanic/train.csv\n",
      "/kaggle/input/titanic/test.csv\n",
      "/kaggle/input/titanic/gender_submission.csv\n"
     ]
    }
   ],
   "source": [
    "# This Python 3 environment comes with many helpful analytics libraries installed\n",
    "# It is defined by the kaggle/python Docker image: https://github.com/kaggle/docker-python\n",
    "# For example, here's several helpful packages to load\n",
    "\n",
    "import numpy as np # linear algebra\n",
    "import pandas as pd # data processing, CSV file I/O (e.g. pd.read_csv)\n",
    "\n",
    "# Input data files are available in the read-only \"../input/\" directory\n",
    "# For example, running this (by clicking run or pressing Shift+Enter) will list all files under the input directory\n",
    "\n",
    "import os\n",
    "for dirname, _, filenames in os.walk('/kaggle/input'):\n",
    "    for filename in filenames:\n",
    "        print(os.path.join(dirname, filename))\n",
    "\n",
    "# You can write up to 20GB to the current directory (/kaggle/working/) that gets preserved as output when you create a version using \"Save & Run All\" \n",
    "# You can also write temporary files to /kaggle/temp/, but they won't be saved outside of the current session"
   ]
  },
  {
   "cell_type": "code",
   "execution_count": 2,
   "id": "7c8fe74f",
   "metadata": {
    "execution": {
     "iopub.execute_input": "2022-08-24T20:30:25.713473Z",
     "iopub.status.busy": "2022-08-24T20:30:25.713117Z",
     "iopub.status.idle": "2022-08-24T20:30:25.742660Z",
     "shell.execute_reply": "2022-08-24T20:30:25.741821Z"
    },
    "papermill": {
     "duration": 0.03666,
     "end_time": "2022-08-24T20:30:25.744279",
     "exception": false,
     "start_time": "2022-08-24T20:30:25.707619",
     "status": "completed"
    },
    "tags": []
   },
   "outputs": [
    {
     "data": {
      "text/html": [
       "<div>\n",
       "<style scoped>\n",
       "    .dataframe tbody tr th:only-of-type {\n",
       "        vertical-align: middle;\n",
       "    }\n",
       "\n",
       "    .dataframe tbody tr th {\n",
       "        vertical-align: top;\n",
       "    }\n",
       "\n",
       "    .dataframe thead th {\n",
       "        text-align: right;\n",
       "    }\n",
       "</style>\n",
       "<table border=\"1\" class=\"dataframe\">\n",
       "  <thead>\n",
       "    <tr style=\"text-align: right;\">\n",
       "      <th></th>\n",
       "      <th>PassengerId</th>\n",
       "      <th>Survived</th>\n",
       "      <th>Pclass</th>\n",
       "      <th>Name</th>\n",
       "      <th>Sex</th>\n",
       "      <th>Age</th>\n",
       "      <th>SibSp</th>\n",
       "      <th>Parch</th>\n",
       "      <th>Ticket</th>\n",
       "      <th>Fare</th>\n",
       "      <th>Cabin</th>\n",
       "      <th>Embarked</th>\n",
       "    </tr>\n",
       "  </thead>\n",
       "  <tbody>\n",
       "    <tr>\n",
       "      <th>886</th>\n",
       "      <td>887</td>\n",
       "      <td>0</td>\n",
       "      <td>2</td>\n",
       "      <td>Montvila, Rev. Juozas</td>\n",
       "      <td>male</td>\n",
       "      <td>27.0</td>\n",
       "      <td>0</td>\n",
       "      <td>0</td>\n",
       "      <td>211536</td>\n",
       "      <td>13.00</td>\n",
       "      <td>NaN</td>\n",
       "      <td>S</td>\n",
       "    </tr>\n",
       "    <tr>\n",
       "      <th>887</th>\n",
       "      <td>888</td>\n",
       "      <td>1</td>\n",
       "      <td>1</td>\n",
       "      <td>Graham, Miss. Margaret Edith</td>\n",
       "      <td>female</td>\n",
       "      <td>19.0</td>\n",
       "      <td>0</td>\n",
       "      <td>0</td>\n",
       "      <td>112053</td>\n",
       "      <td>30.00</td>\n",
       "      <td>B42</td>\n",
       "      <td>S</td>\n",
       "    </tr>\n",
       "    <tr>\n",
       "      <th>888</th>\n",
       "      <td>889</td>\n",
       "      <td>0</td>\n",
       "      <td>3</td>\n",
       "      <td>Johnston, Miss. Catherine Helen \"Carrie\"</td>\n",
       "      <td>female</td>\n",
       "      <td>NaN</td>\n",
       "      <td>1</td>\n",
       "      <td>2</td>\n",
       "      <td>W./C. 6607</td>\n",
       "      <td>23.45</td>\n",
       "      <td>NaN</td>\n",
       "      <td>S</td>\n",
       "    </tr>\n",
       "    <tr>\n",
       "      <th>889</th>\n",
       "      <td>890</td>\n",
       "      <td>1</td>\n",
       "      <td>1</td>\n",
       "      <td>Behr, Mr. Karl Howell</td>\n",
       "      <td>male</td>\n",
       "      <td>26.0</td>\n",
       "      <td>0</td>\n",
       "      <td>0</td>\n",
       "      <td>111369</td>\n",
       "      <td>30.00</td>\n",
       "      <td>C148</td>\n",
       "      <td>C</td>\n",
       "    </tr>\n",
       "    <tr>\n",
       "      <th>890</th>\n",
       "      <td>891</td>\n",
       "      <td>0</td>\n",
       "      <td>3</td>\n",
       "      <td>Dooley, Mr. Patrick</td>\n",
       "      <td>male</td>\n",
       "      <td>32.0</td>\n",
       "      <td>0</td>\n",
       "      <td>0</td>\n",
       "      <td>370376</td>\n",
       "      <td>7.75</td>\n",
       "      <td>NaN</td>\n",
       "      <td>Q</td>\n",
       "    </tr>\n",
       "  </tbody>\n",
       "</table>\n",
       "</div>"
      ],
      "text/plain": [
       "     PassengerId  Survived  Pclass                                      Name  \\\n",
       "886          887         0       2                     Montvila, Rev. Juozas   \n",
       "887          888         1       1              Graham, Miss. Margaret Edith   \n",
       "888          889         0       3  Johnston, Miss. Catherine Helen \"Carrie\"   \n",
       "889          890         1       1                     Behr, Mr. Karl Howell   \n",
       "890          891         0       3                       Dooley, Mr. Patrick   \n",
       "\n",
       "        Sex   Age  SibSp  Parch      Ticket   Fare Cabin Embarked  \n",
       "886    male  27.0      0      0      211536  13.00   NaN        S  \n",
       "887  female  19.0      0      0      112053  30.00   B42        S  \n",
       "888  female   NaN      1      2  W./C. 6607  23.45   NaN        S  \n",
       "889    male  26.0      0      0      111369  30.00  C148        C  \n",
       "890    male  32.0      0      0      370376   7.75   NaN        Q  "
      ]
     },
     "execution_count": 2,
     "metadata": {},
     "output_type": "execute_result"
    }
   ],
   "source": [
    "train_data = pd.read_csv(\"/kaggle/input/titanic/train.csv\")\n",
    "train_data.tail()\n"
   ]
  },
  {
   "cell_type": "code",
   "execution_count": 3,
   "id": "5d6595a8",
   "metadata": {
    "execution": {
     "iopub.execute_input": "2022-08-24T20:30:25.755466Z",
     "iopub.status.busy": "2022-08-24T20:30:25.755007Z",
     "iopub.status.idle": "2022-08-24T20:30:25.773084Z",
     "shell.execute_reply": "2022-08-24T20:30:25.772376Z"
    },
    "papermill": {
     "duration": 0.025376,
     "end_time": "2022-08-24T20:30:25.774649",
     "exception": false,
     "start_time": "2022-08-24T20:30:25.749273",
     "status": "completed"
    },
    "tags": []
   },
   "outputs": [
    {
     "data": {
      "text/html": [
       "<div>\n",
       "<style scoped>\n",
       "    .dataframe tbody tr th:only-of-type {\n",
       "        vertical-align: middle;\n",
       "    }\n",
       "\n",
       "    .dataframe tbody tr th {\n",
       "        vertical-align: top;\n",
       "    }\n",
       "\n",
       "    .dataframe thead th {\n",
       "        text-align: right;\n",
       "    }\n",
       "</style>\n",
       "<table border=\"1\" class=\"dataframe\">\n",
       "  <thead>\n",
       "    <tr style=\"text-align: right;\">\n",
       "      <th></th>\n",
       "      <th>PassengerId</th>\n",
       "      <th>Pclass</th>\n",
       "      <th>Name</th>\n",
       "      <th>Sex</th>\n",
       "      <th>Age</th>\n",
       "      <th>SibSp</th>\n",
       "      <th>Parch</th>\n",
       "      <th>Ticket</th>\n",
       "      <th>Fare</th>\n",
       "      <th>Cabin</th>\n",
       "      <th>Embarked</th>\n",
       "    </tr>\n",
       "  </thead>\n",
       "  <tbody>\n",
       "    <tr>\n",
       "      <th>0</th>\n",
       "      <td>892</td>\n",
       "      <td>3</td>\n",
       "      <td>Kelly, Mr. James</td>\n",
       "      <td>male</td>\n",
       "      <td>34.5</td>\n",
       "      <td>0</td>\n",
       "      <td>0</td>\n",
       "      <td>330911</td>\n",
       "      <td>7.8292</td>\n",
       "      <td>NaN</td>\n",
       "      <td>Q</td>\n",
       "    </tr>\n",
       "    <tr>\n",
       "      <th>1</th>\n",
       "      <td>893</td>\n",
       "      <td>3</td>\n",
       "      <td>Wilkes, Mrs. James (Ellen Needs)</td>\n",
       "      <td>female</td>\n",
       "      <td>47.0</td>\n",
       "      <td>1</td>\n",
       "      <td>0</td>\n",
       "      <td>363272</td>\n",
       "      <td>7.0000</td>\n",
       "      <td>NaN</td>\n",
       "      <td>S</td>\n",
       "    </tr>\n",
       "    <tr>\n",
       "      <th>2</th>\n",
       "      <td>894</td>\n",
       "      <td>2</td>\n",
       "      <td>Myles, Mr. Thomas Francis</td>\n",
       "      <td>male</td>\n",
       "      <td>62.0</td>\n",
       "      <td>0</td>\n",
       "      <td>0</td>\n",
       "      <td>240276</td>\n",
       "      <td>9.6875</td>\n",
       "      <td>NaN</td>\n",
       "      <td>Q</td>\n",
       "    </tr>\n",
       "    <tr>\n",
       "      <th>3</th>\n",
       "      <td>895</td>\n",
       "      <td>3</td>\n",
       "      <td>Wirz, Mr. Albert</td>\n",
       "      <td>male</td>\n",
       "      <td>27.0</td>\n",
       "      <td>0</td>\n",
       "      <td>0</td>\n",
       "      <td>315154</td>\n",
       "      <td>8.6625</td>\n",
       "      <td>NaN</td>\n",
       "      <td>S</td>\n",
       "    </tr>\n",
       "    <tr>\n",
       "      <th>4</th>\n",
       "      <td>896</td>\n",
       "      <td>3</td>\n",
       "      <td>Hirvonen, Mrs. Alexander (Helga E Lindqvist)</td>\n",
       "      <td>female</td>\n",
       "      <td>22.0</td>\n",
       "      <td>1</td>\n",
       "      <td>1</td>\n",
       "      <td>3101298</td>\n",
       "      <td>12.2875</td>\n",
       "      <td>NaN</td>\n",
       "      <td>S</td>\n",
       "    </tr>\n",
       "  </tbody>\n",
       "</table>\n",
       "</div>"
      ],
      "text/plain": [
       "   PassengerId  Pclass                                          Name     Sex  \\\n",
       "0          892       3                              Kelly, Mr. James    male   \n",
       "1          893       3              Wilkes, Mrs. James (Ellen Needs)  female   \n",
       "2          894       2                     Myles, Mr. Thomas Francis    male   \n",
       "3          895       3                              Wirz, Mr. Albert    male   \n",
       "4          896       3  Hirvonen, Mrs. Alexander (Helga E Lindqvist)  female   \n",
       "\n",
       "    Age  SibSp  Parch   Ticket     Fare Cabin Embarked  \n",
       "0  34.5      0      0   330911   7.8292   NaN        Q  \n",
       "1  47.0      1      0   363272   7.0000   NaN        S  \n",
       "2  62.0      0      0   240276   9.6875   NaN        Q  \n",
       "3  27.0      0      0   315154   8.6625   NaN        S  \n",
       "4  22.0      1      1  3101298  12.2875   NaN        S  "
      ]
     },
     "execution_count": 3,
     "metadata": {},
     "output_type": "execute_result"
    }
   ],
   "source": [
    "test_data = pd.read_csv(\"/kaggle/input/titanic/test.csv\")\n",
    "test_data.head()"
   ]
  },
  {
   "cell_type": "code",
   "execution_count": 4,
   "id": "5e753ce5",
   "metadata": {
    "execution": {
     "iopub.execute_input": "2022-08-24T20:30:25.786762Z",
     "iopub.status.busy": "2022-08-24T20:30:25.786001Z",
     "iopub.status.idle": "2022-08-24T20:30:25.793004Z",
     "shell.execute_reply": "2022-08-24T20:30:25.792432Z"
    },
    "papermill": {
     "duration": 0.014488,
     "end_time": "2022-08-24T20:30:25.794449",
     "exception": false,
     "start_time": "2022-08-24T20:30:25.779961",
     "status": "completed"
    },
    "tags": []
   },
   "outputs": [
    {
     "data": {
      "text/plain": [
       "PassengerId      0\n",
       "Survived         0\n",
       "Pclass           0\n",
       "Name             0\n",
       "Sex              0\n",
       "Age            177\n",
       "SibSp            0\n",
       "Parch            0\n",
       "Ticket           0\n",
       "Fare             0\n",
       "Cabin          687\n",
       "Embarked         2\n",
       "dtype: int64"
      ]
     },
     "execution_count": 4,
     "metadata": {},
     "output_type": "execute_result"
    }
   ],
   "source": [
    "train_data.isnull().sum() "
   ]
  },
  {
   "cell_type": "code",
   "execution_count": 5,
   "id": "0764aa98",
   "metadata": {
    "execution": {
     "iopub.execute_input": "2022-08-24T20:30:25.805935Z",
     "iopub.status.busy": "2022-08-24T20:30:25.805517Z",
     "iopub.status.idle": "2022-08-24T20:30:25.811339Z",
     "shell.execute_reply": "2022-08-24T20:30:25.810793Z"
    },
    "papermill": {
     "duration": 0.013146,
     "end_time": "2022-08-24T20:30:25.812755",
     "exception": false,
     "start_time": "2022-08-24T20:30:25.799609",
     "status": "completed"
    },
    "tags": []
   },
   "outputs": [
    {
     "data": {
      "text/plain": [
       "PassengerId      0\n",
       "Pclass           0\n",
       "Name             0\n",
       "Sex              0\n",
       "Age             86\n",
       "SibSp            0\n",
       "Parch            0\n",
       "Ticket           0\n",
       "Fare             1\n",
       "Cabin          327\n",
       "Embarked         0\n",
       "dtype: int64"
      ]
     },
     "execution_count": 5,
     "metadata": {},
     "output_type": "execute_result"
    }
   ],
   "source": [
    "test_data.isnull().sum()"
   ]
  },
  {
   "cell_type": "code",
   "execution_count": 6,
   "id": "9672fd49",
   "metadata": {
    "execution": {
     "iopub.execute_input": "2022-08-24T20:30:25.824319Z",
     "iopub.status.busy": "2022-08-24T20:30:25.823757Z",
     "iopub.status.idle": "2022-08-24T20:30:25.828877Z",
     "shell.execute_reply": "2022-08-24T20:30:25.828337Z"
    },
    "papermill": {
     "duration": 0.012391,
     "end_time": "2022-08-24T20:30:25.830288",
     "exception": false,
     "start_time": "2022-08-24T20:30:25.817897",
     "status": "completed"
    },
    "tags": []
   },
   "outputs": [
    {
     "data": {
      "text/plain": [
       "PassengerId      int64\n",
       "Survived         int64\n",
       "Pclass           int64\n",
       "Name            object\n",
       "Sex             object\n",
       "Age            float64\n",
       "SibSp            int64\n",
       "Parch            int64\n",
       "Ticket          object\n",
       "Fare           float64\n",
       "Cabin           object\n",
       "Embarked        object\n",
       "dtype: object"
      ]
     },
     "execution_count": 6,
     "metadata": {},
     "output_type": "execute_result"
    }
   ],
   "source": [
    "train_data.dtypes"
   ]
  },
  {
   "cell_type": "code",
   "execution_count": 7,
   "id": "5d58554f",
   "metadata": {
    "execution": {
     "iopub.execute_input": "2022-08-24T20:30:25.842185Z",
     "iopub.status.busy": "2022-08-24T20:30:25.841921Z",
     "iopub.status.idle": "2022-08-24T20:30:25.847146Z",
     "shell.execute_reply": "2022-08-24T20:30:25.846592Z"
    },
    "papermill": {
     "duration": 0.012918,
     "end_time": "2022-08-24T20:30:25.848568",
     "exception": false,
     "start_time": "2022-08-24T20:30:25.835650",
     "status": "completed"
    },
    "tags": []
   },
   "outputs": [],
   "source": [
    "y = train_data.Survived\n",
    "x = train_data"
   ]
  },
  {
   "cell_type": "code",
   "execution_count": 8,
   "id": "539e3459",
   "metadata": {
    "execution": {
     "iopub.execute_input": "2022-08-24T20:30:25.860327Z",
     "iopub.status.busy": "2022-08-24T20:30:25.859789Z",
     "iopub.status.idle": "2022-08-24T20:30:27.128158Z",
     "shell.execute_reply": "2022-08-24T20:30:27.127335Z"
    },
    "papermill": {
     "duration": 1.276343,
     "end_time": "2022-08-24T20:30:27.130163",
     "exception": false,
     "start_time": "2022-08-24T20:30:25.853820",
     "status": "completed"
    },
    "tags": []
   },
   "outputs": [
    {
     "data": {
      "text/plain": [
       "<AxesSubplot:>"
      ]
     },
     "execution_count": 8,
     "metadata": {},
     "output_type": "execute_result"
    },
    {
     "data": {
      "image/png": "[encoded data removed]",
      "text/plain": [
       "<Figure size 720x720 with 2 Axes>"
      ]
     },
     "metadata": {
      "needs_background": "light"
     },
     "output_type": "display_data"
    }
   ],
   "source": [
    "import seaborn as sns\n",
    "import matplotlib.pyplot as plt\n",
    "plt.figure(figsize = (10,10))\n",
    "corr_mat = x.corr()\n",
    "sns.heatmap(corr_mat, annot = True)"
   ]
  },
  {
   "cell_type": "code",
   "execution_count": 9,
   "id": "21940b4e",
   "metadata": {
    "execution": {
     "iopub.execute_input": "2022-08-24T20:30:27.144077Z",
     "iopub.status.busy": "2022-08-24T20:30:27.143791Z",
     "iopub.status.idle": "2022-08-24T20:30:27.318520Z",
     "shell.execute_reply": "2022-08-24T20:30:27.317796Z"
    },
    "papermill": {
     "duration": 0.183574,
     "end_time": "2022-08-24T20:30:27.320333",
     "exception": false,
     "start_time": "2022-08-24T20:30:27.136759",
     "status": "completed"
    },
    "tags": []
   },
   "outputs": [
    {
     "data": {
      "text/plain": [
       "<AxesSubplot:xlabel='Age', ylabel='Count'>"
      ]
     },
     "execution_count": 9,
     "metadata": {},
     "output_type": "execute_result"
    },
    {
     "data": {
      "image/png": "[encoded data removed]",
      "text/plain": [
       "<Figure size 432x288 with 1 Axes>"
      ]
     },
     "metadata": {
      "needs_background": "light"
     },
     "output_type": "display_data"
    }
   ],
   "source": [
    "sns.histplot(data = x, x = x['Age'])"
   ]
  },
  {
   "cell_type": "markdown",
   "id": "97115af8",
   "metadata": {
    "papermill": {
     "duration": 0.005957,
     "end_time": "2022-08-24T20:30:27.332908",
     "exception": false,
     "start_time": "2022-08-24T20:30:27.326951",
     "status": "completed"
    },
    "tags": []
   },
   "source": [
    "The mean here would be skewed by 74 and 0.92"
   ]
  },
  {
   "cell_type": "code",
   "execution_count": 10,
   "id": "9de07512",
   "metadata": {
    "execution": {
     "iopub.execute_input": "2022-08-24T20:30:27.346542Z",
     "iopub.status.busy": "2022-08-24T20:30:27.345903Z",
     "iopub.status.idle": "2022-08-24T20:30:27.354251Z",
     "shell.execute_reply": "2022-08-24T20:30:27.353411Z"
    },
    "papermill": {
     "duration": 0.016782,
     "end_time": "2022-08-24T20:30:27.355789",
     "exception": false,
     "start_time": "2022-08-24T20:30:27.339007",
     "status": "completed"
    },
    "tags": []
   },
   "outputs": [
    {
     "name": "stdout",
     "output_type": "stream",
     "text": [
      "24.0\n"
     ]
    },
    {
     "data": {
      "text/plain": [
       "28.0"
      ]
     },
     "execution_count": 10,
     "metadata": {},
     "output_type": "execute_result"
    }
   ],
   "source": [
    "mode = x['Age'].mode()[0]\n",
    "print(mode)\n",
    "median = x['Age'].median()\n",
    "median"
   ]
  },
  {
   "cell_type": "code",
   "execution_count": 11,
   "id": "486854c1",
   "metadata": {
    "execution": {
     "iopub.execute_input": "2022-08-24T20:30:27.369321Z",
     "iopub.status.busy": "2022-08-24T20:30:27.368946Z",
     "iopub.status.idle": "2022-08-24T20:30:27.375771Z",
     "shell.execute_reply": "2022-08-24T20:30:27.375056Z"
    },
    "papermill": {
     "duration": 0.015225,
     "end_time": "2022-08-24T20:30:27.377270",
     "exception": false,
     "start_time": "2022-08-24T20:30:27.362045",
     "status": "completed"
    },
    "tags": []
   },
   "outputs": [
    {
     "data": {
      "text/plain": [
       "0"
      ]
     },
     "execution_count": 11,
     "metadata": {},
     "output_type": "execute_result"
    }
   ],
   "source": [
    "x = x.fillna({'Age': mode})\n",
    "test_data = test_data.fillna({'Age': mode})\n",
    "x.Age.isnull().sum()\n",
    "test_data.Age.isnull().sum()"
   ]
  },
  {
   "cell_type": "code",
   "execution_count": 12,
   "id": "e5bd990f",
   "metadata": {
    "execution": {
     "iopub.execute_input": "2022-08-24T20:30:27.391351Z",
     "iopub.status.busy": "2022-08-24T20:30:27.390921Z",
     "iopub.status.idle": "2022-08-24T20:30:27.501057Z",
     "shell.execute_reply": "2022-08-24T20:30:27.500342Z"
    },
    "papermill": {
     "duration": 0.118965,
     "end_time": "2022-08-24T20:30:27.502667",
     "exception": false,
     "start_time": "2022-08-24T20:30:27.383702",
     "status": "completed"
    },
    "tags": []
   },
   "outputs": [
    {
     "data": {
      "text/plain": [
       "<AxesSubplot:xlabel='Embarked', ylabel='Count'>"
      ]
     },
     "execution_count": 12,
     "metadata": {},
     "output_type": "execute_result"
    },
    {
     "data": {
      "image/png": "[encoded data removed]",
      "text/plain": [
       "<Figure size 432x288 with 1 Axes>"
      ]
     },
     "metadata": {
      "needs_background": "light"
     },
     "output_type": "display_data"
    }
   ],
   "source": [
    "sns.histplot(data = x, x = x['Embarked'])"
   ]
  },
  {
   "cell_type": "code",
   "execution_count": 13,
   "id": "1dadf4b7",
   "metadata": {
    "execution": {
     "iopub.execute_input": "2022-08-24T20:30:27.522652Z",
     "iopub.status.busy": "2022-08-24T20:30:27.522139Z",
     "iopub.status.idle": "2022-08-24T20:30:27.529034Z",
     "shell.execute_reply": "2022-08-24T20:30:27.528325Z"
    },
    "papermill": {
     "duration": 0.018656,
     "end_time": "2022-08-24T20:30:27.530906",
     "exception": false,
     "start_time": "2022-08-24T20:30:27.512250",
     "status": "completed"
    },
    "tags": []
   },
   "outputs": [
    {
     "data": {
      "text/plain": [
       "0"
      ]
     },
     "execution_count": 13,
     "metadata": {},
     "output_type": "execute_result"
    }
   ],
   "source": [
    "x = x.fillna({'Embarked': 'S'})\n",
    "x.Embarked.isnull().sum()"
   ]
  },
  {
   "cell_type": "code",
   "execution_count": 14,
   "id": "349c29b9",
   "metadata": {
    "execution": {
     "iopub.execute_input": "2022-08-24T20:30:27.548469Z",
     "iopub.status.busy": "2022-08-24T20:30:27.547799Z",
     "iopub.status.idle": "2022-08-24T20:30:27.699562Z",
     "shell.execute_reply": "2022-08-24T20:30:27.697728Z"
    },
    "papermill": {
     "duration": 0.161839,
     "end_time": "2022-08-24T20:30:27.701775",
     "exception": false,
     "start_time": "2022-08-24T20:30:27.539936",
     "status": "completed"
    },
    "tags": []
   },
   "outputs": [
    {
     "data": {
      "text/plain": [
       "<AxesSubplot:xlabel='Fare', ylabel='Density'>"
      ]
     },
     "execution_count": 14,
     "metadata": {},
     "output_type": "execute_result"
    },
    {
     "data": {
      "image/png": "[encoded data removed]",
      "text/plain": [
       "<Figure size 432x288 with 1 Axes>"
      ]
     },
     "metadata": {
      "needs_background": "light"
     },
     "output_type": "display_data"
    }
   ],
   "source": [
    "sns.kdeplot(data = x, x = 'Fare')"
   ]
  },
  {
   "cell_type": "code",
   "execution_count": 15,
   "id": "38d79862",
   "metadata": {
    "execution": {
     "iopub.execute_input": "2022-08-24T20:30:27.718491Z",
     "iopub.status.busy": "2022-08-24T20:30:27.717809Z",
     "iopub.status.idle": "2022-08-24T20:30:27.723655Z",
     "shell.execute_reply": "2022-08-24T20:30:27.722712Z"
    },
    "papermill": {
     "duration": 0.015242,
     "end_time": "2022-08-24T20:30:27.725141",
     "exception": false,
     "start_time": "2022-08-24T20:30:27.709899",
     "status": "completed"
    },
    "tags": []
   },
   "outputs": [
    {
     "name": "stdout",
     "output_type": "stream",
     "text": [
      "35.627188489208635\n"
     ]
    }
   ],
   "source": [
    "print(test_data['Fare'].mean())\n",
    "test_data = test_data.fillna({'Fare': test_data['Fare'].mean()})"
   ]
  },
  {
   "cell_type": "code",
   "execution_count": 16,
   "id": "7e9b51f7",
   "metadata": {
    "execution": {
     "iopub.execute_input": "2022-08-24T20:30:27.740939Z",
     "iopub.status.busy": "2022-08-24T20:30:27.740262Z",
     "iopub.status.idle": "2022-08-24T20:30:27.746207Z",
     "shell.execute_reply": "2022-08-24T20:30:27.745421Z"
    },
    "papermill": {
     "duration": 0.015702,
     "end_time": "2022-08-24T20:30:27.748133",
     "exception": false,
     "start_time": "2022-08-24T20:30:27.732431",
     "status": "completed"
    },
    "tags": []
   },
   "outputs": [],
   "source": [
    "x = x.drop(['PassengerId', 'Name', 'Ticket', 'Cabin', 'Survived'], axis = 1)\n",
    "test_data_ids = test_data['PassengerId']\n",
    "test_data = test_data.drop(['PassengerId', 'Name', 'Ticket', 'Cabin'], axis = 1)"
   ]
  },
  {
   "cell_type": "code",
   "execution_count": 17,
   "id": "61073d12",
   "metadata": {
    "execution": {
     "iopub.execute_input": "2022-08-24T20:30:27.763586Z",
     "iopub.status.busy": "2022-08-24T20:30:27.763288Z",
     "iopub.status.idle": "2022-08-24T20:30:27.986213Z",
     "shell.execute_reply": "2022-08-24T20:30:27.985349Z"
    },
    "papermill": {
     "duration": 0.232697,
     "end_time": "2022-08-24T20:30:27.988052",
     "exception": false,
     "start_time": "2022-08-24T20:30:27.755355",
     "status": "completed"
    },
    "tags": []
   },
   "outputs": [
    {
     "data": {
      "text/html": [
       "<div>\n",
       "<style scoped>\n",
       "    .dataframe tbody tr th:only-of-type {\n",
       "        vertical-align: middle;\n",
       "    }\n",
       "\n",
       "    .dataframe tbody tr th {\n",
       "        vertical-align: top;\n",
       "    }\n",
       "\n",
       "    .dataframe thead th {\n",
       "        text-align: right;\n",
       "    }\n",
       "</style>\n",
       "<table border=\"1\" class=\"dataframe\">\n",
       "  <thead>\n",
       "    <tr style=\"text-align: right;\">\n",
       "      <th></th>\n",
       "      <th>Pclass</th>\n",
       "      <th>Age</th>\n",
       "      <th>SibSp</th>\n",
       "      <th>Parch</th>\n",
       "      <th>Fare</th>\n",
       "      <th>Sex_female</th>\n",
       "      <th>Sex_male</th>\n",
       "      <th>Embarked_C</th>\n",
       "      <th>Embarked_Q</th>\n",
       "      <th>Embarked_S</th>\n",
       "    </tr>\n",
       "  </thead>\n",
       "  <tbody>\n",
       "    <tr>\n",
       "      <th>0</th>\n",
       "      <td>3</td>\n",
       "      <td>22.0</td>\n",
       "      <td>1</td>\n",
       "      <td>0</td>\n",
       "      <td>7.2500</td>\n",
       "      <td>0.0</td>\n",
       "      <td>1.0</td>\n",
       "      <td>0.0</td>\n",
       "      <td>0.0</td>\n",
       "      <td>1.0</td>\n",
       "    </tr>\n",
       "    <tr>\n",
       "      <th>1</th>\n",
       "      <td>1</td>\n",
       "      <td>38.0</td>\n",
       "      <td>1</td>\n",
       "      <td>0</td>\n",
       "      <td>71.2833</td>\n",
       "      <td>1.0</td>\n",
       "      <td>0.0</td>\n",
       "      <td>1.0</td>\n",
       "      <td>0.0</td>\n",
       "      <td>0.0</td>\n",
       "    </tr>\n",
       "    <tr>\n",
       "      <th>2</th>\n",
       "      <td>3</td>\n",
       "      <td>26.0</td>\n",
       "      <td>0</td>\n",
       "      <td>0</td>\n",
       "      <td>7.9250</td>\n",
       "      <td>1.0</td>\n",
       "      <td>0.0</td>\n",
       "      <td>0.0</td>\n",
       "      <td>0.0</td>\n",
       "      <td>1.0</td>\n",
       "    </tr>\n",
       "    <tr>\n",
       "      <th>3</th>\n",
       "      <td>1</td>\n",
       "      <td>35.0</td>\n",
       "      <td>1</td>\n",
       "      <td>0</td>\n",
       "      <td>53.1000</td>\n",
       "      <td>1.0</td>\n",
       "      <td>0.0</td>\n",
       "      <td>0.0</td>\n",
       "      <td>0.0</td>\n",
       "      <td>1.0</td>\n",
       "    </tr>\n",
       "    <tr>\n",
       "      <th>4</th>\n",
       "      <td>3</td>\n",
       "      <td>35.0</td>\n",
       "      <td>0</td>\n",
       "      <td>0</td>\n",
       "      <td>8.0500</td>\n",
       "      <td>0.0</td>\n",
       "      <td>1.0</td>\n",
       "      <td>0.0</td>\n",
       "      <td>0.0</td>\n",
       "      <td>1.0</td>\n",
       "    </tr>\n",
       "  </tbody>\n",
       "</table>\n",
       "</div>"
      ],
      "text/plain": [
       "   Pclass   Age  SibSp  Parch     Fare  Sex_female  Sex_male  Embarked_C  \\\n",
       "0       3  22.0      1      0   7.2500         0.0       1.0         0.0   \n",
       "1       1  38.0      1      0  71.2833         1.0       0.0         1.0   \n",
       "2       3  26.0      0      0   7.9250         1.0       0.0         0.0   \n",
       "3       1  35.0      1      0  53.1000         1.0       0.0         0.0   \n",
       "4       3  35.0      0      0   8.0500         0.0       1.0         0.0   \n",
       "\n",
       "   Embarked_Q  Embarked_S  \n",
       "0         0.0         1.0  \n",
       "1         0.0         0.0  \n",
       "2         0.0         1.0  \n",
       "3         0.0         1.0  \n",
       "4         0.0         1.0  "
      ]
     },
     "metadata": {},
     "output_type": "display_data"
    },
    {
     "data": {
      "text/html": [
       "<div>\n",
       "<style scoped>\n",
       "    .dataframe tbody tr th:only-of-type {\n",
       "        vertical-align: middle;\n",
       "    }\n",
       "\n",
       "    .dataframe tbody tr th {\n",
       "        vertical-align: top;\n",
       "    }\n",
       "\n",
       "    .dataframe thead th {\n",
       "        text-align: right;\n",
       "    }\n",
       "</style>\n",
       "<table border=\"1\" class=\"dataframe\">\n",
       "  <thead>\n",
       "    <tr style=\"text-align: right;\">\n",
       "      <th></th>\n",
       "      <th>Pclass</th>\n",
       "      <th>Age</th>\n",
       "      <th>SibSp</th>\n",
       "      <th>Parch</th>\n",
       "      <th>Fare</th>\n",
       "      <th>Sex_female</th>\n",
       "      <th>Sex_male</th>\n",
       "      <th>Embarked_C</th>\n",
       "      <th>Embarked_Q</th>\n",
       "      <th>Embarked_S</th>\n",
       "    </tr>\n",
       "  </thead>\n",
       "  <tbody>\n",
       "    <tr>\n",
       "      <th>0</th>\n",
       "      <td>3</td>\n",
       "      <td>34.5</td>\n",
       "      <td>0</td>\n",
       "      <td>0</td>\n",
       "      <td>7.8292</td>\n",
       "      <td>0.0</td>\n",
       "      <td>1.0</td>\n",
       "      <td>0.0</td>\n",
       "      <td>1.0</td>\n",
       "      <td>0.0</td>\n",
       "    </tr>\n",
       "    <tr>\n",
       "      <th>1</th>\n",
       "      <td>3</td>\n",
       "      <td>47.0</td>\n",
       "      <td>1</td>\n",
       "      <td>0</td>\n",
       "      <td>7.0000</td>\n",
       "      <td>1.0</td>\n",
       "      <td>0.0</td>\n",
       "      <td>0.0</td>\n",
       "      <td>0.0</td>\n",
       "      <td>1.0</td>\n",
       "    </tr>\n",
       "    <tr>\n",
       "      <th>2</th>\n",
       "      <td>2</td>\n",
       "      <td>62.0</td>\n",
       "      <td>0</td>\n",
       "      <td>0</td>\n",
       "      <td>9.6875</td>\n",
       "      <td>0.0</td>\n",
       "      <td>1.0</td>\n",
       "      <td>0.0</td>\n",
       "      <td>1.0</td>\n",
       "      <td>0.0</td>\n",
       "    </tr>\n",
       "    <tr>\n",
       "      <th>3</th>\n",
       "      <td>3</td>\n",
       "      <td>27.0</td>\n",
       "      <td>0</td>\n",
       "      <td>0</td>\n",
       "      <td>8.6625</td>\n",
       "      <td>0.0</td>\n",
       "      <td>1.0</td>\n",
       "      <td>0.0</td>\n",
       "      <td>0.0</td>\n",
       "      <td>1.0</td>\n",
       "    </tr>\n",
       "    <tr>\n",
       "      <th>4</th>\n",
       "      <td>3</td>\n",
       "      <td>22.0</td>\n",
       "      <td>1</td>\n",
       "      <td>1</td>\n",
       "      <td>12.2875</td>\n",
       "      <td>1.0</td>\n",
       "      <td>0.0</td>\n",
       "      <td>0.0</td>\n",
       "      <td>0.0</td>\n",
       "      <td>1.0</td>\n",
       "    </tr>\n",
       "  </tbody>\n",
       "</table>\n",
       "</div>"
      ],
      "text/plain": [
       "   Pclass   Age  SibSp  Parch     Fare  Sex_female  Sex_male  Embarked_C  \\\n",
       "0       3  34.5      0      0   7.8292         0.0       1.0         0.0   \n",
       "1       3  47.0      1      0   7.0000         1.0       0.0         0.0   \n",
       "2       2  62.0      0      0   9.6875         0.0       1.0         0.0   \n",
       "3       3  27.0      0      0   8.6625         0.0       1.0         0.0   \n",
       "4       3  22.0      1      1  12.2875         1.0       0.0         0.0   \n",
       "\n",
       "   Embarked_Q  Embarked_S  \n",
       "0         1.0         0.0  \n",
       "1         0.0         1.0  \n",
       "2         1.0         0.0  \n",
       "3         0.0         1.0  \n",
       "4         0.0         1.0  "
      ]
     },
     "metadata": {},
     "output_type": "display_data"
    }
   ],
   "source": [
    "from sklearn.preprocessing import OneHotEncoder\n",
    "OH_encoder = OneHotEncoder(handle_unknown='ignore', sparse=False)\n",
    "obj_cols = ['Sex', 'Embarked']\n",
    "OH_cols_x = pd.DataFrame(OH_encoder.fit_transform(x[obj_cols]))\n",
    "OH_cols_x.index = x.index\n",
    "OH_cols_x.columns = OH_encoder.get_feature_names_out()\n",
    "OH_cols_test = pd.DataFrame(OH_encoder.fit_transform(test_data[obj_cols]))\n",
    "OH_cols_test.index = test_data.index\n",
    "OH_cols_test.columns = OH_encoder.get_feature_names_out() \n",
    "\n",
    "x = x.drop(obj_cols, axis=1)\n",
    "test_data = test_data.drop(obj_cols, axis = 1)\n",
    "\n",
    "x = x.join(OH_cols_x)\n",
    "test_data = test_data.join(OH_cols_test)\n",
    "display(x.head())\n",
    "display(test_data.head())\n"
   ]
  },
  {
   "cell_type": "code",
   "execution_count": 18,
   "id": "91a38f53",
   "metadata": {
    "execution": {
     "iopub.execute_input": "2022-08-24T20:30:28.004491Z",
     "iopub.status.busy": "2022-08-24T20:30:28.004104Z",
     "iopub.status.idle": "2022-08-24T20:30:28.392356Z",
     "shell.execute_reply": "2022-08-24T20:30:28.391734Z"
    },
    "papermill": {
     "duration": 0.398458,
     "end_time": "2022-08-24T20:30:28.394241",
     "exception": false,
     "start_time": "2022-08-24T20:30:27.995783",
     "status": "completed"
    },
    "tags": []
   },
   "outputs": [
    {
     "data": {
      "text/plain": [
       "RandomForestClassifier(random_state=2)"
      ]
     },
     "execution_count": 18,
     "metadata": {},
     "output_type": "execute_result"
    }
   ],
   "source": [
    "from sklearn.model_selection import train_test_split\n",
    "from sklearn.metrics import accuracy_score\n",
    "from sklearn.ensemble import RandomForestClassifier\n",
    "\n",
    "model = RandomForestClassifier(random_state = 2)\n",
    "model.fit(x, y)\n",
    "\n"
   ]
  },
  {
   "cell_type": "code",
   "execution_count": 19,
   "id": "97dd3951",
   "metadata": {
    "execution": {
     "iopub.execute_input": "2022-08-24T20:30:28.411017Z",
     "iopub.status.busy": "2022-08-24T20:30:28.410739Z",
     "iopub.status.idle": "2022-08-24T20:30:28.431459Z",
     "shell.execute_reply": "2022-08-24T20:30:28.430753Z"
    },
    "papermill": {
     "duration": 0.030895,
     "end_time": "2022-08-24T20:30:28.433061",
     "exception": false,
     "start_time": "2022-08-24T20:30:28.402166",
     "status": "completed"
    },
    "tags": []
   },
   "outputs": [],
   "source": [
    "preds = model.predict(test_data)"
   ]
  },
  {
   "cell_type": "code",
   "execution_count": 20,
   "id": "4748fe9c",
   "metadata": {
    "execution": {
     "iopub.execute_input": "2022-08-24T20:30:28.450316Z",
     "iopub.status.busy": "2022-08-24T20:30:28.449483Z",
     "iopub.status.idle": "2022-08-24T20:30:28.461178Z",
     "shell.execute_reply": "2022-08-24T20:30:28.460313Z"
    },
    "papermill": {
     "duration": 0.022061,
     "end_time": "2022-08-24T20:30:28.463054",
     "exception": false,
     "start_time": "2022-08-24T20:30:28.440993",
     "status": "completed"
    },
    "tags": []
   },
   "outputs": [
    {
     "name": "stdout",
     "output_type": "stream",
     "text": [
      "     PassengerId  Survived\n",
      "0            892         0\n",
      "1            893         0\n",
      "2            894         0\n",
      "3            895         1\n",
      "4            896         0\n",
      "..           ...       ...\n",
      "413         1305         0\n",
      "414         1306         1\n",
      "415         1307         0\n",
      "416         1308         0\n",
      "417         1309         1\n",
      "\n",
      "[418 rows x 2 columns]\n"
     ]
    }
   ],
   "source": [
    "final = pd.DataFrame({'PassengerId':test_data_ids,'Survived':preds})\n",
    "print(final)\n",
    "final.to_csv('/kaggle/working/submission2.csv',index=False)"
   ]
  },
  {
   "cell_type": "code",
   "execution_count": null,
   "id": "95fa962a",
   "metadata": {
    "papermill": {
     "duration": 0.00746,
     "end_time": "2022-08-24T20:30:28.478629",
     "exception": false,
     "start_time": "2022-08-24T20:30:28.471169",
     "status": "completed"
    },
    "tags": []
   },
   "outputs": [],
   "source": []
  }
 ],
 "metadata": {
  "kernelspec": {
   "display_name": "Python 3",
   "language": "python",
   "name": "python3"
  },
  "language_info": {
   "codemirror_mode": {
    "name": "ipython",
    "version": 3
   },
   "file_extension": ".py",
   "mimetype": "text/x-python",
   "name": "python",
   "nbconvert_exporter": "python",
   "pygments_lexer": "ipython3",
   "version": "3.7.12"
  },
  "papermill": {
   "default_parameters": {},
   "duration": 10.590687,
   "end_time": "2022-08-24T20:30:29.104573",
   "environment_variables": {},
   "exception": null,
   "input_path": "__notebook__.ipynb",
   "output_path": "__notebook__.ipynb",
   "parameters": {},
   "start_time": "2022-08-24T20:30:18.513886",
   "version": "2.3.4"
  }
 },
 "nbformat": 4,
 "nbformat_minor": 5
}
